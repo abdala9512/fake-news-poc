{
 "cells": [
  {
   "cell_type": "code",
   "execution_count": 5,
   "id": "70d5c75a-3ee5-4b95-b6ac-758ac072e555",
   "metadata": {},
   "outputs": [
    {
     "name": "stdout",
     "output_type": "stream",
     "text": [
      "Collecting python-dotenv\n",
      "  Using cached python_dotenv-1.0.0-py3-none-any.whl (19 kB)\n",
      "Installing collected packages: python-dotenv\n",
      "Successfully installed python-dotenv-1.0.0\n"
     ]
    }
   ],
   "source": [
    "!pip install python-dotenv"
   ]
  },
  {
   "cell_type": "code",
   "execution_count": 1,
   "id": "b62e0708-3da5-4cf2-9eb6-440d8b247b45",
   "metadata": {},
   "outputs": [],
   "source": [
    "import mlflow\n",
    "\n",
    "from src.libs.configs import MLFLOW_FAKE_NEWS_EXPERIMENT_NAME, MLFLOW_TRACKING_URI"
   ]
  },
  {
   "cell_type": "code",
   "execution_count": 2,
   "id": "06068124-c925-42c2-94f2-b2964d0a0f8c",
   "metadata": {},
   "outputs": [
    {
     "data": {
      "text/plain": [
       "True"
      ]
     },
     "execution_count": 2,
     "metadata": {},
     "output_type": "execute_result"
    }
   ],
   "source": [
    "\n",
    "from dotenv import load_dotenv\n",
    "\n",
    "load_dotenv()  # take environment variables from .env."
   ]
  },
  {
   "cell_type": "code",
   "execution_count": 3,
   "id": "be712b54-1ff4-4344-892d-05c39225ddca",
   "metadata": {},
   "outputs": [
    {
     "name": "stdout",
     "output_type": "stream",
     "text": [
      "https://dagshub.com/abdala9512/fake-news-poc.mlflow/#/experiments/0\n",
      "fake_news_poc_experiment\n"
     ]
    }
   ],
   "source": [
    "mlflow.set_tracking_uri(MLFLOW_TRACKING_URI)\n",
    "mlflow.set_experiment(\"fake_news_poc_experiment\")\n",
    "\n",
    "experiments= mlflow.search_experiments()\n",
    "for exp in experiments:\n",
    "    print(exp.name)"
   ]
  },
  {
   "cell_type": "code",
   "execution_count": 4,
   "id": "96b2ce26-b64c-41e3-bb8b-9f76277fdd4d",
   "metadata": {},
   "outputs": [
    {
     "data": {
      "text/html": [
       "<div>\n",
       "<style scoped>\n",
       "    .dataframe tbody tr th:only-of-type {\n",
       "        vertical-align: middle;\n",
       "    }\n",
       "\n",
       "    .dataframe tbody tr th {\n",
       "        vertical-align: top;\n",
       "    }\n",
       "\n",
       "    .dataframe thead th {\n",
       "        text-align: right;\n",
       "    }\n",
       "</style>\n",
       "<table border=\"1\" class=\"dataframe\">\n",
       "  <thead>\n",
       "    <tr style=\"text-align: right;\">\n",
       "      <th></th>\n",
       "      <th>run_id</th>\n",
       "      <th>experiment_id</th>\n",
       "      <th>status</th>\n",
       "      <th>artifact_uri</th>\n",
       "      <th>start_time</th>\n",
       "      <th>end_time</th>\n",
       "      <th>metrics.val_auc_15</th>\n",
       "      <th>metrics.val_loss</th>\n",
       "      <th>metrics.auc_15</th>\n",
       "      <th>metrics.loss</th>\n",
       "      <th>...</th>\n",
       "      <th>params.var_smoothing</th>\n",
       "      <th>tags.mlflow.log-model.history</th>\n",
       "      <th>tags.mlflow.source.name</th>\n",
       "      <th>tags.mlflow.source.type</th>\n",
       "      <th>tags.mlflow.runName</th>\n",
       "      <th>tags.mlflow.source.git.commit</th>\n",
       "      <th>tags.mlflow.user</th>\n",
       "      <th>tags.estimator_class</th>\n",
       "      <th>tags.estimator_name</th>\n",
       "      <th>tags.dagshub.labels.hidden</th>\n",
       "    </tr>\n",
       "  </thead>\n",
       "  <tbody>\n",
       "    <tr>\n",
       "      <th>0</th>\n",
       "      <td>8d90c4136cb04f95b7d905addacd168c</td>\n",
       "      <td>0</td>\n",
       "      <td>FINISHED</td>\n",
       "      <td>mlflow-artifacts:/052bdf9ed0ab421080a4d421f8d6...</td>\n",
       "      <td>2023-05-22 17:28:55.224000+00:00</td>\n",
       "      <td>2023-05-22 17:29:43.161000+00:00</td>\n",
       "      <td>0.808723</td>\n",
       "      <td>2.170157</td>\n",
       "      <td>1.0</td>\n",
       "      <td>0.000201</td>\n",
       "      <td>...</td>\n",
       "      <td>None</td>\n",
       "      <td>[{\"run_id\": \"8d90c4136cb04f95b7d905addacd168c\"...</td>\n",
       "      <td>src/pipeline_training_full.py</td>\n",
       "      <td>LOCAL</td>\n",
       "      <td>respected-fox-149</td>\n",
       "      <td>27e7132a70b588529b855a1ca7a8ff24787d134f</td>\n",
       "      <td>abdala9512</td>\n",
       "      <td>None</td>\n",
       "      <td>None</td>\n",
       "      <td>None</td>\n",
       "    </tr>\n",
       "    <tr>\n",
       "      <th>1</th>\n",
       "      <td>afc5a0da876e47ea84cf83cd3064ed25</td>\n",
       "      <td>0</td>\n",
       "      <td>FINISHED</td>\n",
       "      <td>mlflow-artifacts:/052bdf9ed0ab421080a4d421f8d6...</td>\n",
       "      <td>2023-05-22 04:13:22.793000+00:00</td>\n",
       "      <td>2023-05-22 04:14:21.944000+00:00</td>\n",
       "      <td>0.878798</td>\n",
       "      <td>1.318613</td>\n",
       "      <td>1.0</td>\n",
       "      <td>0.004409</td>\n",
       "      <td>...</td>\n",
       "      <td>None</td>\n",
       "      <td>[{\"run_id\": \"afc5a0da876e47ea84cf83cd3064ed25\"...</td>\n",
       "      <td>src/pipeline_training_full.py</td>\n",
       "      <td>LOCAL</td>\n",
       "      <td>powerful-kit-154</td>\n",
       "      <td>27e7132a70b588529b855a1ca7a8ff24787d134f</td>\n",
       "      <td>abdala9512</td>\n",
       "      <td>None</td>\n",
       "      <td>None</td>\n",
       "      <td>None</td>\n",
       "    </tr>\n",
       "    <tr>\n",
       "      <th>2</th>\n",
       "      <td>d9913fd44ed64473acb7045b6ea428ef</td>\n",
       "      <td>0</td>\n",
       "      <td>FINISHED</td>\n",
       "      <td>mlflow-artifacts:/052bdf9ed0ab421080a4d421f8d6...</td>\n",
       "      <td>2023-05-22 04:02:16.550000+00:00</td>\n",
       "      <td>2023-05-22 04:03:16.720000+00:00</td>\n",
       "      <td>NaN</td>\n",
       "      <td>1.965782</td>\n",
       "      <td>NaN</td>\n",
       "      <td>0.003671</td>\n",
       "      <td>...</td>\n",
       "      <td>None</td>\n",
       "      <td>[{\"run_id\": \"d9913fd44ed64473acb7045b6ea428ef\"...</td>\n",
       "      <td>src/pipeline_training_full.py</td>\n",
       "      <td>LOCAL</td>\n",
       "      <td>bemused-shrimp-839</td>\n",
       "      <td>81d5b8603a92f7cc7cdd25e4e75857b7a6914f24</td>\n",
       "      <td>abdala9512</td>\n",
       "      <td>None</td>\n",
       "      <td>None</td>\n",
       "      <td>None</td>\n",
       "    </tr>\n",
       "    <tr>\n",
       "      <th>3</th>\n",
       "      <td>620eb542cf8c4080b008c5cbad068ee5</td>\n",
       "      <td>0</td>\n",
       "      <td>FAILED</td>\n",
       "      <td>mlflow-artifacts:/052bdf9ed0ab421080a4d421f8d6...</td>\n",
       "      <td>2023-05-22 03:50:15.505000+00:00</td>\n",
       "      <td>2023-05-22 03:50:16.360000+00:00</td>\n",
       "      <td>NaN</td>\n",
       "      <td>NaN</td>\n",
       "      <td>NaN</td>\n",
       "      <td>NaN</td>\n",
       "      <td>...</td>\n",
       "      <td>None</td>\n",
       "      <td>None</td>\n",
       "      <td>src/pipeline_training_full.py</td>\n",
       "      <td>LOCAL</td>\n",
       "      <td>judicious-rat-605</td>\n",
       "      <td>81d5b8603a92f7cc7cdd25e4e75857b7a6914f24</td>\n",
       "      <td>abdala9512</td>\n",
       "      <td>None</td>\n",
       "      <td>None</td>\n",
       "      <td>None</td>\n",
       "    </tr>\n",
       "    <tr>\n",
       "      <th>4</th>\n",
       "      <td>93c492c817b646728cae5d1f4de1176a</td>\n",
       "      <td>0</td>\n",
       "      <td>FAILED</td>\n",
       "      <td>mlflow-artifacts:/052bdf9ed0ab421080a4d421f8d6...</td>\n",
       "      <td>2023-05-22 03:41:50.330000+00:00</td>\n",
       "      <td>2023-05-22 03:41:51.672000+00:00</td>\n",
       "      <td>NaN</td>\n",
       "      <td>NaN</td>\n",
       "      <td>NaN</td>\n",
       "      <td>NaN</td>\n",
       "      <td>...</td>\n",
       "      <td>None</td>\n",
       "      <td>None</td>\n",
       "      <td>src/pipeline_training_full.py</td>\n",
       "      <td>LOCAL</td>\n",
       "      <td>polite-horse-427</td>\n",
       "      <td>81d5b8603a92f7cc7cdd25e4e75857b7a6914f24</td>\n",
       "      <td>abdala9512</td>\n",
       "      <td>None</td>\n",
       "      <td>None</td>\n",
       "      <td>None</td>\n",
       "    </tr>\n",
       "    <tr>\n",
       "      <th>5</th>\n",
       "      <td>d7cd3ad3018e4c1182fc335135414102</td>\n",
       "      <td>0</td>\n",
       "      <td>FAILED</td>\n",
       "      <td>mlflow-artifacts:/052bdf9ed0ab421080a4d421f8d6...</td>\n",
       "      <td>2023-05-22 03:39:53.195000+00:00</td>\n",
       "      <td>2023-05-22 03:39:54.534000+00:00</td>\n",
       "      <td>NaN</td>\n",
       "      <td>NaN</td>\n",
       "      <td>NaN</td>\n",
       "      <td>NaN</td>\n",
       "      <td>...</td>\n",
       "      <td>None</td>\n",
       "      <td>None</td>\n",
       "      <td>src/pipeline_training_full.py</td>\n",
       "      <td>LOCAL</td>\n",
       "      <td>placid-deer-389</td>\n",
       "      <td>81d5b8603a92f7cc7cdd25e4e75857b7a6914f24</td>\n",
       "      <td>abdala9512</td>\n",
       "      <td>None</td>\n",
       "      <td>None</td>\n",
       "      <td>None</td>\n",
       "    </tr>\n",
       "    <tr>\n",
       "      <th>6</th>\n",
       "      <td>8593eac1e56942feaf3bc360f83e95d7</td>\n",
       "      <td>0</td>\n",
       "      <td>FINISHED</td>\n",
       "      <td>mlflow-artifacts:/052bdf9ed0ab421080a4d421f8d6...</td>\n",
       "      <td>2023-04-02 22:01:44.416000+00:00</td>\n",
       "      <td>2023-04-02 22:01:54.241000+00:00</td>\n",
       "      <td>NaN</td>\n",
       "      <td>NaN</td>\n",
       "      <td>NaN</td>\n",
       "      <td>NaN</td>\n",
       "      <td>...</td>\n",
       "      <td>1e-09</td>\n",
       "      <td>[{\"run_id\": \"8593eac1e56942feaf3bc360f83e95d7\"...</td>\n",
       "      <td>/home/abdala9512/.local/share/virtualenvs/fake...</td>\n",
       "      <td>LOCAL</td>\n",
       "      <td>kindly-sow-9</td>\n",
       "      <td>None</td>\n",
       "      <td>abdala9512</td>\n",
       "      <td>sklearn.naive_bayes.GaussianNB</td>\n",
       "      <td>GaussianNB</td>\n",
       "      <td>None</td>\n",
       "    </tr>\n",
       "    <tr>\n",
       "      <th>7</th>\n",
       "      <td>b3470133af0e46bdadff5dc5597ed889</td>\n",
       "      <td>0</td>\n",
       "      <td>FAILED</td>\n",
       "      <td>mlflow-artifacts:/052bdf9ed0ab421080a4d421f8d6...</td>\n",
       "      <td>2023-04-02 22:00:20.263000+00:00</td>\n",
       "      <td>2023-04-02 22:00:28.929000+00:00</td>\n",
       "      <td>NaN</td>\n",
       "      <td>NaN</td>\n",
       "      <td>NaN</td>\n",
       "      <td>NaN</td>\n",
       "      <td>...</td>\n",
       "      <td>1e-09</td>\n",
       "      <td>[{\"run_id\": \"b3470133af0e46bdadff5dc5597ed889\"...</td>\n",
       "      <td>/home/abdala9512/.local/share/virtualenvs/fake...</td>\n",
       "      <td>LOCAL</td>\n",
       "      <td>learned-bear-576</td>\n",
       "      <td>None</td>\n",
       "      <td>abdala9512</td>\n",
       "      <td>sklearn.naive_bayes.GaussianNB</td>\n",
       "      <td>GaussianNB</td>\n",
       "      <td>-</td>\n",
       "    </tr>\n",
       "    <tr>\n",
       "      <th>8</th>\n",
       "      <td>4425700ba54b4f3c951940931c6abd17</td>\n",
       "      <td>0</td>\n",
       "      <td>FAILED</td>\n",
       "      <td>mlflow-artifacts:/052bdf9ed0ab421080a4d421f8d6...</td>\n",
       "      <td>2023-04-02 21:59:59.716000+00:00</td>\n",
       "      <td>2023-04-02 22:00:11.872000+00:00</td>\n",
       "      <td>NaN</td>\n",
       "      <td>NaN</td>\n",
       "      <td>NaN</td>\n",
       "      <td>NaN</td>\n",
       "      <td>...</td>\n",
       "      <td>1e-09</td>\n",
       "      <td>[{\"run_id\": \"4425700ba54b4f3c951940931c6abd17\"...</td>\n",
       "      <td>/home/abdala9512/.local/share/virtualenvs/fake...</td>\n",
       "      <td>LOCAL</td>\n",
       "      <td>whimsical-sheep-855</td>\n",
       "      <td>None</td>\n",
       "      <td>abdala9512</td>\n",
       "      <td>sklearn.naive_bayes.GaussianNB</td>\n",
       "      <td>GaussianNB</td>\n",
       "      <td>-</td>\n",
       "    </tr>\n",
       "  </tbody>\n",
       "</table>\n",
       "<p>9 rows × 66 columns</p>\n",
       "</div>"
      ],
      "text/plain": [
       "                             run_id experiment_id    status  \\\n",
       "0  8d90c4136cb04f95b7d905addacd168c             0  FINISHED   \n",
       "1  afc5a0da876e47ea84cf83cd3064ed25             0  FINISHED   \n",
       "2  d9913fd44ed64473acb7045b6ea428ef             0  FINISHED   \n",
       "3  620eb542cf8c4080b008c5cbad068ee5             0    FAILED   \n",
       "4  93c492c817b646728cae5d1f4de1176a             0    FAILED   \n",
       "5  d7cd3ad3018e4c1182fc335135414102             0    FAILED   \n",
       "6  8593eac1e56942feaf3bc360f83e95d7             0  FINISHED   \n",
       "7  b3470133af0e46bdadff5dc5597ed889             0    FAILED   \n",
       "8  4425700ba54b4f3c951940931c6abd17             0    FAILED   \n",
       "\n",
       "                                        artifact_uri  \\\n",
       "0  mlflow-artifacts:/052bdf9ed0ab421080a4d421f8d6...   \n",
       "1  mlflow-artifacts:/052bdf9ed0ab421080a4d421f8d6...   \n",
       "2  mlflow-artifacts:/052bdf9ed0ab421080a4d421f8d6...   \n",
       "3  mlflow-artifacts:/052bdf9ed0ab421080a4d421f8d6...   \n",
       "4  mlflow-artifacts:/052bdf9ed0ab421080a4d421f8d6...   \n",
       "5  mlflow-artifacts:/052bdf9ed0ab421080a4d421f8d6...   \n",
       "6  mlflow-artifacts:/052bdf9ed0ab421080a4d421f8d6...   \n",
       "7  mlflow-artifacts:/052bdf9ed0ab421080a4d421f8d6...   \n",
       "8  mlflow-artifacts:/052bdf9ed0ab421080a4d421f8d6...   \n",
       "\n",
       "                        start_time                         end_time  \\\n",
       "0 2023-05-22 17:28:55.224000+00:00 2023-05-22 17:29:43.161000+00:00   \n",
       "1 2023-05-22 04:13:22.793000+00:00 2023-05-22 04:14:21.944000+00:00   \n",
       "2 2023-05-22 04:02:16.550000+00:00 2023-05-22 04:03:16.720000+00:00   \n",
       "3 2023-05-22 03:50:15.505000+00:00 2023-05-22 03:50:16.360000+00:00   \n",
       "4 2023-05-22 03:41:50.330000+00:00 2023-05-22 03:41:51.672000+00:00   \n",
       "5 2023-05-22 03:39:53.195000+00:00 2023-05-22 03:39:54.534000+00:00   \n",
       "6 2023-04-02 22:01:44.416000+00:00 2023-04-02 22:01:54.241000+00:00   \n",
       "7 2023-04-02 22:00:20.263000+00:00 2023-04-02 22:00:28.929000+00:00   \n",
       "8 2023-04-02 21:59:59.716000+00:00 2023-04-02 22:00:11.872000+00:00   \n",
       "\n",
       "   metrics.val_auc_15  metrics.val_loss  metrics.auc_15  metrics.loss  ...  \\\n",
       "0            0.808723          2.170157             1.0      0.000201  ...   \n",
       "1            0.878798          1.318613             1.0      0.004409  ...   \n",
       "2                 NaN          1.965782             NaN      0.003671  ...   \n",
       "3                 NaN               NaN             NaN           NaN  ...   \n",
       "4                 NaN               NaN             NaN           NaN  ...   \n",
       "5                 NaN               NaN             NaN           NaN  ...   \n",
       "6                 NaN               NaN             NaN           NaN  ...   \n",
       "7                 NaN               NaN             NaN           NaN  ...   \n",
       "8                 NaN               NaN             NaN           NaN  ...   \n",
       "\n",
       "   params.var_smoothing                      tags.mlflow.log-model.history  \\\n",
       "0                  None  [{\"run_id\": \"8d90c4136cb04f95b7d905addacd168c\"...   \n",
       "1                  None  [{\"run_id\": \"afc5a0da876e47ea84cf83cd3064ed25\"...   \n",
       "2                  None  [{\"run_id\": \"d9913fd44ed64473acb7045b6ea428ef\"...   \n",
       "3                  None                                               None   \n",
       "4                  None                                               None   \n",
       "5                  None                                               None   \n",
       "6                 1e-09  [{\"run_id\": \"8593eac1e56942feaf3bc360f83e95d7\"...   \n",
       "7                 1e-09  [{\"run_id\": \"b3470133af0e46bdadff5dc5597ed889\"...   \n",
       "8                 1e-09  [{\"run_id\": \"4425700ba54b4f3c951940931c6abd17\"...   \n",
       "\n",
       "                             tags.mlflow.source.name  tags.mlflow.source.type  \\\n",
       "0                      src/pipeline_training_full.py                    LOCAL   \n",
       "1                      src/pipeline_training_full.py                    LOCAL   \n",
       "2                      src/pipeline_training_full.py                    LOCAL   \n",
       "3                      src/pipeline_training_full.py                    LOCAL   \n",
       "4                      src/pipeline_training_full.py                    LOCAL   \n",
       "5                      src/pipeline_training_full.py                    LOCAL   \n",
       "6  /home/abdala9512/.local/share/virtualenvs/fake...                    LOCAL   \n",
       "7  /home/abdala9512/.local/share/virtualenvs/fake...                    LOCAL   \n",
       "8  /home/abdala9512/.local/share/virtualenvs/fake...                    LOCAL   \n",
       "\n",
       "   tags.mlflow.runName             tags.mlflow.source.git.commit  \\\n",
       "0    respected-fox-149  27e7132a70b588529b855a1ca7a8ff24787d134f   \n",
       "1     powerful-kit-154  27e7132a70b588529b855a1ca7a8ff24787d134f   \n",
       "2   bemused-shrimp-839  81d5b8603a92f7cc7cdd25e4e75857b7a6914f24   \n",
       "3    judicious-rat-605  81d5b8603a92f7cc7cdd25e4e75857b7a6914f24   \n",
       "4     polite-horse-427  81d5b8603a92f7cc7cdd25e4e75857b7a6914f24   \n",
       "5      placid-deer-389  81d5b8603a92f7cc7cdd25e4e75857b7a6914f24   \n",
       "6         kindly-sow-9                                      None   \n",
       "7     learned-bear-576                                      None   \n",
       "8  whimsical-sheep-855                                      None   \n",
       "\n",
       "   tags.mlflow.user            tags.estimator_class  tags.estimator_name  \\\n",
       "0        abdala9512                            None                 None   \n",
       "1        abdala9512                            None                 None   \n",
       "2        abdala9512                            None                 None   \n",
       "3        abdala9512                            None                 None   \n",
       "4        abdala9512                            None                 None   \n",
       "5        abdala9512                            None                 None   \n",
       "6        abdala9512  sklearn.naive_bayes.GaussianNB           GaussianNB   \n",
       "7        abdala9512  sklearn.naive_bayes.GaussianNB           GaussianNB   \n",
       "8        abdala9512  sklearn.naive_bayes.GaussianNB           GaussianNB   \n",
       "\n",
       "   tags.dagshub.labels.hidden  \n",
       "0                        None  \n",
       "1                        None  \n",
       "2                        None  \n",
       "3                        None  \n",
       "4                        None  \n",
       "5                        None  \n",
       "6                        None  \n",
       "7                           -  \n",
       "8                           -  \n",
       "\n",
       "[9 rows x 66 columns]"
      ]
     },
     "execution_count": 4,
     "metadata": {},
     "output_type": "execute_result"
    }
   ],
   "source": [
    "all_experiments = mlflow.search_runs()\n",
    "all_experiments"
   ]
  },
  {
   "cell_type": "code",
   "execution_count": 5,
   "id": "7eaf6eeb-833a-4197-a01c-b538d22f3f88",
   "metadata": {},
   "outputs": [],
   "source": [
    "valid_runs = all_experiments[~all_experiments[\"metrics.val_auc_15\"].isna()]"
   ]
  },
  {
   "cell_type": "code",
   "execution_count": 6,
   "id": "512c71bc-fe85-4897-bf67-370a0f66de76",
   "metadata": {},
   "outputs": [],
   "source": [
    "best_run = valid_runs.loc[valid_runs['metrics.val_auc_15'].idxmax()][\"run_id\"]"
   ]
  },
  {
   "cell_type": "code",
   "execution_count": 7,
   "id": "a8a61a07-cbaf-44d0-9be7-a81d83fce575",
   "metadata": {},
   "outputs": [
    {
     "data": {
      "text/plain": [
       "'afc5a0da876e47ea84cf83cd3064ed25'"
      ]
     },
     "execution_count": 7,
     "metadata": {},
     "output_type": "execute_result"
    }
   ],
   "source": [
    "best_run"
   ]
  },
  {
   "cell_type": "code",
   "execution_count": 28,
   "id": "03d096da-7f51-4ec7-8867-cfdeca35c7b3",
   "metadata": {},
   "outputs": [
    {
     "data": {
      "text/plain": [
       "'21611200625f46c2a22f761741d2e4d0'"
      ]
     },
     "execution_count": 28,
     "metadata": {},
     "output_type": "execute_result"
    }
   ],
   "source": [
    "from typing import List\n",
    "import json\n",
    "from src.libs.configs import MLFLOW_FAKE_NEWS_EXPERIMENT_NAME, MLFLOW_TRACKING_URI, MLFLOW_FAKE_NEWS_MODEL_NAME\n",
    "from dotenv import load_dotenv\n",
    "import mlflow\n",
    "\n",
    "load_dotenv()  # take environment variables from .env.\n",
    "\n",
    "\n",
    "mlflow.set_tracking_uri(MLFLOW_TRACKING_URI)\n",
    "mlflow.set_experiment(MLFLOW_FAKE_NEWS_EXPERIMENT_NAME)\n",
    "\n",
    "def search_best_model(\n",
    "        experiment_names: List[str] = [MLFLOW_FAKE_NEWS_EXPERIMENT_NAME],\n",
    "        metric_name: str = \"val_auc_1\"\n",
    "    ) -> str:\n",
    "    \"\"\"Search Best Run ID of given experiments\n",
    "    \"\"\"\n",
    "    runs_  = mlflow.search_runs(experiment_names=experiment_names)\n",
    "    run_id = runs_.loc[runs_[f'metrics.{metric_name}'].idxmax()]['run_id']\n",
    "    artifact_path = json.loads(\n",
    "        runs_[runs_[\"run_id\"] == run_id][\"tags.mlflow.log-model.history\"].values[0]\n",
    "    )[0][\"artifact_path\"]\n",
    "    \n",
    "    return run_id, artifact_path\n",
    "\n",
    "best_ml_model_id, artifact_path = search_best_model()\n",
    "best_ml_model_id"
   ]
  },
  {
   "cell_type": "code",
   "execution_count": 29,
   "id": "ff8d0ee7-d686-4669-b9a9-90de6cd546b3",
   "metadata": {},
   "outputs": [
    {
     "name": "stderr",
     "output_type": "stream",
     "text": [
      "Registered model 'fake_news_poc_model' already exists. Creating a new version of this model...\n",
      "2023/05/22 13:38:35 INFO mlflow.tracking._model_registry.client: Waiting up to 300 seconds for model version to finish creation. Model name: fake_news_poc_model, version 5\n",
      "Created version '5' of model 'fake_news_poc_model'.\n"
     ]
    }
   ],
   "source": [
    "result = mlflow.register_model(\n",
    "    f\"runs:/{best_ml_model_id}/{artifact_path}\",\n",
    "    MLFLOW_FAKE_NEWS_MODEL_NAME\n",
    ")"
   ]
  },
  {
   "cell_type": "code",
   "execution_count": 31,
   "id": "f3d0ab65-4880-4c41-9335-dc6f23ec1778",
   "metadata": {},
   "outputs": [
    {
     "data": {
      "text/plain": [
       "'mlflow-artifacts:/052bdf9ed0ab421080a4d421f8d60a9b/21611200625f46c2a22f761741d2e4d0/artifacts'"
      ]
     },
     "execution_count": 31,
     "metadata": {},
     "output_type": "execute_result"
    }
   ],
   "source": [
    "\n",
    "from mlflow import MlflowClient\n",
    "\n",
    "def get_artifact_uri_production() -> str:\n",
    "\n",
    "    mlflow.set_tracking_uri(MLFLOW_TRACKING_URI)\n",
    "\n",
    "    client = MlflowClient()\n",
    "    for mv in client.search_model_versions(f\"name='{MLFLOW_FAKE_NEWS_MODEL_NAME}'\"):\n",
    "        model = dict(mv)\n",
    "        if model[\"current_stage\"] == \"Production\":\n",
    "            production_model = model\n",
    "\n",
    "    _run_id = production_model.get(\"run_id\")\n",
    "    return mlflow.get_run(_run_id).info.artifact_uri\n"
   ]
  },
  {
   "cell_type": "code",
   "execution_count": 33,
   "id": "1c217fe0-a41a-4cfe-a753-e753953a353e",
   "metadata": {},
   "outputs": [
    {
     "data": {
      "text/plain": [
       "{'BATCH_SIZE': 128,\n",
       " 'DENSE_SIZE': 32,\n",
       " 'DROPOUT': 0.2879062020350355,\n",
       " 'EMBED_DIM': 128,\n",
       " 'EPOCHS': 20,\n",
       " 'LSTM_SIZE': 128,\n",
       " 'MAXLEN': 300,\n",
       " 'OPTIMIZER': 'rmsprop',\n",
       " 'VOCAB_SIZE': 22129}"
      ]
     },
     "execution_count": 33,
     "metadata": {},
     "output_type": "execute_result"
    }
   ],
   "source": [
    "BEST_PARAMS_PROD = f\"{get_artifact_uri_production()}/best_params.json\"\n",
    "\n",
    "mlflow.artifacts.load_dict(BEST_PARAMS_PROD)"
   ]
  },
  {
   "cell_type": "code",
   "execution_count": 25,
   "id": "27c9456a-c536-403a-a66c-1711ae1a7e3a",
   "metadata": {},
   "outputs": [
    {
     "data": {
      "text/plain": [
       "'mlflow-artifacts:/052bdf9ed0ab421080a4d421f8d60a9b/afc5a0da876e47ea84cf83cd3064ed25/artifacts'"
      ]
     },
     "execution_count": 25,
     "metadata": {},
     "output_type": "execute_result"
    }
   ],
   "source": [
    "mlflow.get_run(\"afc5a0da876e47ea84cf83cd3064ed25\").info.artifact_uri"
   ]
  },
  {
   "cell_type": "code",
   "execution_count": 2,
   "id": "a5c3b42e-928f-416a-81e7-7206d4a2a55e",
   "metadata": {},
   "outputs": [
    {
     "name": "stderr",
     "output_type": "stream",
     "text": [
      "2023-05-22 13:02:52.830179: I tensorflow/core/platform/cpu_feature_guard.cc:193] This TensorFlow binary is optimized with oneAPI Deep Neural Network Library (oneDNN) to use the following CPU instructions in performance-critical operations:  AVX2 AVX512F AVX512_VNNI FMA\n",
      "To enable them in other operations, rebuild TensorFlow with the appropriate compiler flags.\n",
      "2023-05-22 13:02:52.995981: I tensorflow/core/util/port.cc:104] oneDNN custom operations are on. You may see slightly different numerical results due to floating-point round-off errors from different computation orders. To turn them off, set the environment variable `TF_ENABLE_ONEDNN_OPTS=0`.\n",
      "2023-05-22 13:02:52.998343: W tensorflow/compiler/xla/stream_executor/platform/default/dso_loader.cc:64] Could not load dynamic library 'libcudart.so.11.0'; dlerror: libcudart.so.11.0: cannot open shared object file: No such file or directory\n",
      "2023-05-22 13:02:52.998353: I tensorflow/compiler/xla/stream_executor/cuda/cudart_stub.cc:29] Ignore above cudart dlerror if you do not have a GPU set up on your machine.\n",
      "2023-05-22 13:02:53.580121: W tensorflow/compiler/xla/stream_executor/platform/default/dso_loader.cc:64] Could not load dynamic library 'libnvinfer.so.7'; dlerror: libnvinfer.so.7: cannot open shared object file: No such file or directory\n",
      "2023-05-22 13:02:53.580160: W tensorflow/compiler/xla/stream_executor/platform/default/dso_loader.cc:64] Could not load dynamic library 'libnvinfer_plugin.so.7'; dlerror: libnvinfer_plugin.so.7: cannot open shared object file: No such file or directory\n",
      "2023-05-22 13:02:53.580164: W tensorflow/compiler/tf2tensorrt/utils/py_utils.cc:38] TF-TRT Warning: Cannot dlopen some TensorRT libraries. If you would like to use Nvidia GPU with TensorRT, please make sure the missing libraries mentioned above are installed properly.\n",
      "2023-05-22 13:02:59.011946: W tensorflow/compiler/xla/stream_executor/platform/default/dso_loader.cc:64] Could not load dynamic library 'libcuda.so.1'; dlerror: libcuda.so.1: cannot open shared object file: No such file or directory\n",
      "2023-05-22 13:02:59.011964: W tensorflow/compiler/xla/stream_executor/cuda/cuda_driver.cc:265] failed call to cuInit: UNKNOWN ERROR (303)\n",
      "2023-05-22 13:02:59.011982: I tensorflow/compiler/xla/stream_executor/cuda/cuda_diagnostics.cc:156] kernel driver does not appear to be running on this host (ABI): /proc/driver/nvidia/version does not exist\n",
      "2023-05-22 13:02:59.012201: I tensorflow/core/platform/cpu_feature_guard.cc:193] This TensorFlow binary is optimized with oneAPI Deep Neural Network Library (oneDNN) to use the following CPU instructions in performance-critical operations:  AVX2 AVX512F AVX512_VNNI FMA\n",
      "To enable them in other operations, rebuild TensorFlow with the appropriate compiler flags.\n"
     ]
    },
    {
     "data": {
      "text/plain": [
       "<keras.engine.sequential.Sequential at 0x7fd7ac13c4c0>"
      ]
     },
     "execution_count": 2,
     "metadata": {},
     "output_type": "execute_result"
    }
   ],
   "source": [
    "stage = \"Production\"\n",
    "mlflow.tensorflow.load_model(model_uri=f\"models:/{MLFLOW_FAKE_NEWS_MODEL_NAME}/Production\",)"
   ]
  },
  {
   "cell_type": "code",
   "execution_count": 19,
   "id": "b30bf96f-e7bb-4678-b5ea-13e75085ceb0",
   "metadata": {},
   "outputs": [
    {
     "name": "stdout",
     "output_type": "stream",
     "text": [
      "Collecting tensorflow==2.11.1\n",
      "  Downloading tensorflow-2.11.1-cp310-cp310-manylinux_2_17_x86_64.manylinux2014_x86_64.whl (588.3 MB)\n",
      "\u001b[2K     \u001b[38;2;114;156;31m━━━━━━━━━━━━━━━━━━━━━━━━━━━━━━━━━━━━━━━\u001b[0m \u001b[32m588.3/588.3 MB\u001b[0m \u001b[31m2.6 MB/s\u001b[0m eta \u001b[36m0:00:00\u001b[0mm eta \u001b[36m0:00:01\u001b[0m[36m0:00:03\u001b[0m\n",
      "\u001b[?25hRequirement already satisfied: gast<=0.4.0,>=0.2.1 in /home/miguelarquez/.pyenv/versions/3.10.0/lib/python3.10/site-packages (from tensorflow==2.11.1) (0.4.0)\n",
      "Requirement already satisfied: google-pasta>=0.1.1 in /home/miguelarquez/.pyenv/versions/3.10.0/lib/python3.10/site-packages (from tensorflow==2.11.1) (0.2.0)\n",
      "Requirement already satisfied: six>=1.12.0 in /home/miguelarquez/.pyenv/versions/3.10.0/lib/python3.10/site-packages (from tensorflow==2.11.1) (1.16.0)\n",
      "Requirement already satisfied: wrapt>=1.11.0 in /home/miguelarquez/.pyenv/versions/3.10.0/lib/python3.10/site-packages (from tensorflow==2.11.1) (1.14.0)\n",
      "Requirement already satisfied: protobuf<3.20,>=3.9.2 in /home/miguelarquez/.pyenv/versions/3.10.0/lib/python3.10/site-packages (from tensorflow==2.11.1) (3.19.6)\n",
      "Requirement already satisfied: absl-py>=1.0.0 in /home/miguelarquez/.pyenv/versions/3.10.0/lib/python3.10/site-packages (from tensorflow==2.11.1) (1.0.0)\n",
      "Requirement already satisfied: opt-einsum>=2.3.2 in /home/miguelarquez/.pyenv/versions/3.10.0/lib/python3.10/site-packages (from tensorflow==2.11.1) (3.3.0)\n",
      "Requirement already satisfied: termcolor>=1.1.0 in /home/miguelarquez/.pyenv/versions/3.10.0/lib/python3.10/site-packages (from tensorflow==2.11.1) (1.1.0)\n",
      "Collecting tensorflow-estimator<2.12,>=2.11.0\n",
      "  Downloading tensorflow_estimator-2.11.0-py2.py3-none-any.whl (439 kB)\n",
      "\u001b[2K     \u001b[38;2;114;156;31m━━━━━━━━━━━━━━━━━━━━━━━━━━━━━━━━━━━━━━━\u001b[0m \u001b[32m439.2/439.2 kB\u001b[0m \u001b[31m7.1 MB/s\u001b[0m eta \u001b[36m0:00:00\u001b[0m[31m7.5 MB/s\u001b[0m eta \u001b[36m0:00:01\u001b[0m\n",
      "\u001b[?25hRequirement already satisfied: numpy>=1.20 in /home/miguelarquez/.pyenv/versions/3.10.0/lib/python3.10/site-packages (from tensorflow==2.11.1) (1.22.3)\n",
      "Requirement already satisfied: packaging in /home/miguelarquez/.pyenv/versions/3.10.0/lib/python3.10/site-packages (from tensorflow==2.11.1) (21.3)\n",
      "Requirement already satisfied: grpcio<2.0,>=1.24.3 in /home/miguelarquez/.pyenv/versions/3.10.0/lib/python3.10/site-packages (from tensorflow==2.11.1) (1.46.1)\n",
      "Requirement already satisfied: flatbuffers>=2.0 in /home/miguelarquez/.pyenv/versions/3.10.0/lib/python3.10/site-packages (from tensorflow==2.11.1) (22.9.24)\n",
      "Requirement already satisfied: libclang>=13.0.0 in /home/miguelarquez/.pyenv/versions/3.10.0/lib/python3.10/site-packages (from tensorflow==2.11.1) (14.0.1)\n",
      "Collecting tensorboard<2.12,>=2.11\n",
      "  Downloading tensorboard-2.11.2-py3-none-any.whl (6.0 MB)\n",
      "\u001b[2K     \u001b[38;2;114;156;31m━━━━━━━━━━━━━━━━━━━━━━━━━━━━━━━━━━━━━━━━\u001b[0m \u001b[32m6.0/6.0 MB\u001b[0m \u001b[31m12.5 MB/s\u001b[0m eta \u001b[36m0:00:00\u001b[0mm eta \u001b[36m0:00:01\u001b[0m[36m0:00:01\u001b[0m\n",
      "\u001b[?25hRequirement already satisfied: tensorflow-io-gcs-filesystem>=0.23.1 in /home/miguelarquez/.pyenv/versions/3.10.0/lib/python3.10/site-packages (from tensorflow==2.11.1) (0.25.0)\n",
      "Requirement already satisfied: astunparse>=1.6.0 in /home/miguelarquez/.pyenv/versions/3.10.0/lib/python3.10/site-packages (from tensorflow==2.11.1) (1.6.3)\n",
      "Collecting keras<2.12,>=2.11.0\n",
      "  Downloading keras-2.11.0-py2.py3-none-any.whl (1.7 MB)\n",
      "\u001b[2K     \u001b[38;2;114;156;31m━━━━━━━━━━━━━━━━━━━━━━━━━━━━━━━━━━━━━━━━\u001b[0m \u001b[32m1.7/1.7 MB\u001b[0m \u001b[31m13.8 MB/s\u001b[0m eta \u001b[36m0:00:00\u001b[0mm eta \u001b[36m0:00:01\u001b[0m[36m0:00:01\u001b[0m\n",
      "\u001b[?25hRequirement already satisfied: setuptools in /home/miguelarquez/.pyenv/versions/3.10.0/lib/python3.10/site-packages (from tensorflow==2.11.1) (67.2.0)\n",
      "Requirement already satisfied: typing-extensions>=3.6.6 in /home/miguelarquez/.pyenv/versions/3.10.0/lib/python3.10/site-packages (from tensorflow==2.11.1) (4.2.0)\n",
      "Requirement already satisfied: h5py>=2.9.0 in /home/miguelarquez/.pyenv/versions/3.10.0/lib/python3.10/site-packages (from tensorflow==2.11.1) (3.6.0)\n",
      "Requirement already satisfied: wheel<1.0,>=0.23.0 in /home/miguelarquez/.pyenv/versions/3.10.0/lib/python3.10/site-packages (from astunparse>=1.6.0->tensorflow==2.11.1) (0.38.4)\n",
      "Requirement already satisfied: werkzeug>=1.0.1 in /home/miguelarquez/.pyenv/versions/3.10.0/lib/python3.10/site-packages (from tensorboard<2.12,>=2.11->tensorflow==2.11.1) (2.3.4)\n",
      "Requirement already satisfied: tensorboard-data-server<0.7.0,>=0.6.0 in /home/miguelarquez/.pyenv/versions/3.10.0/lib/python3.10/site-packages (from tensorboard<2.12,>=2.11->tensorflow==2.11.1) (0.6.1)\n",
      "Requirement already satisfied: markdown>=2.6.8 in /home/miguelarquez/.pyenv/versions/3.10.0/lib/python3.10/site-packages (from tensorboard<2.12,>=2.11->tensorflow==2.11.1) (3.3.7)\n",
      "Requirement already satisfied: requests<3,>=2.21.0 in /home/miguelarquez/.pyenv/versions/3.10.0/lib/python3.10/site-packages (from tensorboard<2.12,>=2.11->tensorflow==2.11.1) (2.27.1)\n",
      "Requirement already satisfied: google-auth<3,>=1.6.3 in /home/miguelarquez/.pyenv/versions/3.10.0/lib/python3.10/site-packages (from tensorboard<2.12,>=2.11->tensorflow==2.11.1) (2.6.6)\n",
      "Requirement already satisfied: tensorboard-plugin-wit>=1.6.0 in /home/miguelarquez/.pyenv/versions/3.10.0/lib/python3.10/site-packages (from tensorboard<2.12,>=2.11->tensorflow==2.11.1) (1.8.1)\n",
      "Requirement already satisfied: google-auth-oauthlib<0.5,>=0.4.1 in /home/miguelarquez/.pyenv/versions/3.10.0/lib/python3.10/site-packages (from tensorboard<2.12,>=2.11->tensorflow==2.11.1) (0.4.6)\n",
      "Requirement already satisfied: pyparsing!=3.0.5,>=2.0.2 in /home/miguelarquez/.pyenv/versions/3.10.0/lib/python3.10/site-packages (from packaging->tensorflow==2.11.1) (3.0.7)\n",
      "Requirement already satisfied: cachetools<6.0,>=2.0.0 in /home/miguelarquez/.pyenv/versions/3.10.0/lib/python3.10/site-packages (from google-auth<3,>=1.6.3->tensorboard<2.12,>=2.11->tensorflow==2.11.1) (5.1.0)\n",
      "Requirement already satisfied: pyasn1-modules>=0.2.1 in /home/miguelarquez/.pyenv/versions/3.10.0/lib/python3.10/site-packages (from google-auth<3,>=1.6.3->tensorboard<2.12,>=2.11->tensorflow==2.11.1) (0.2.8)\n",
      "Requirement already satisfied: rsa<5,>=3.1.4 in /home/miguelarquez/.pyenv/versions/3.10.0/lib/python3.10/site-packages (from google-auth<3,>=1.6.3->tensorboard<2.12,>=2.11->tensorflow==2.11.1) (4.8)\n",
      "Requirement already satisfied: requests-oauthlib>=0.7.0 in /home/miguelarquez/.pyenv/versions/3.10.0/lib/python3.10/site-packages (from google-auth-oauthlib<0.5,>=0.4.1->tensorboard<2.12,>=2.11->tensorflow==2.11.1) (1.3.1)\n",
      "Requirement already satisfied: certifi>=2017.4.17 in /home/miguelarquez/.pyenv/versions/3.10.0/lib/python3.10/site-packages (from requests<3,>=2.21.0->tensorboard<2.12,>=2.11->tensorflow==2.11.1) (2021.10.8)\n",
      "Requirement already satisfied: charset-normalizer~=2.0.0 in /home/miguelarquez/.pyenv/versions/3.10.0/lib/python3.10/site-packages (from requests<3,>=2.21.0->tensorboard<2.12,>=2.11->tensorflow==2.11.1) (2.0.12)\n",
      "Requirement already satisfied: urllib3<1.27,>=1.21.1 in /home/miguelarquez/.pyenv/versions/3.10.0/lib/python3.10/site-packages (from requests<3,>=2.21.0->tensorboard<2.12,>=2.11->tensorflow==2.11.1) (1.26.9)\n",
      "Requirement already satisfied: idna<4,>=2.5 in /home/miguelarquez/.pyenv/versions/3.10.0/lib/python3.10/site-packages (from requests<3,>=2.21.0->tensorboard<2.12,>=2.11->tensorflow==2.11.1) (3.3)\n",
      "Requirement already satisfied: MarkupSafe>=2.1.1 in /home/miguelarquez/.pyenv/versions/3.10.0/lib/python3.10/site-packages (from werkzeug>=1.0.1->tensorboard<2.12,>=2.11->tensorflow==2.11.1) (2.1.2)\n",
      "Requirement already satisfied: pyasn1<0.5.0,>=0.4.6 in /home/miguelarquez/.pyenv/versions/3.10.0/lib/python3.10/site-packages (from pyasn1-modules>=0.2.1->google-auth<3,>=1.6.3->tensorboard<2.12,>=2.11->tensorflow==2.11.1) (0.4.8)\n",
      "Requirement already satisfied: oauthlib>=3.0.0 in /home/miguelarquez/.pyenv/versions/3.10.0/lib/python3.10/site-packages (from requests-oauthlib>=0.7.0->google-auth-oauthlib<0.5,>=0.4.1->tensorboard<2.12,>=2.11->tensorflow==2.11.1) (3.2.0)\n",
      "Installing collected packages: tensorflow-estimator, keras, tensorboard, tensorflow\n",
      "  Attempting uninstall: tensorflow-estimator\n",
      "    Found existing installation: tensorflow-estimator 2.10.0\n",
      "    Uninstalling tensorflow-estimator-2.10.0:\n",
      "      Successfully uninstalled tensorflow-estimator-2.10.0\n",
      "  Attempting uninstall: keras\n",
      "    Found existing installation: keras 2.10.0\n",
      "    Uninstalling keras-2.10.0:\n",
      "      Successfully uninstalled keras-2.10.0\n",
      "  Attempting uninstall: tensorboard\n",
      "    Found existing installation: tensorboard 2.10.1\n",
      "    Uninstalling tensorboard-2.10.1:\n",
      "      Successfully uninstalled tensorboard-2.10.1\n",
      "  Attempting uninstall: tensorflow\n",
      "    Found existing installation: tensorflow 2.10.0\n",
      "    Uninstalling tensorflow-2.10.0:\n",
      "      Successfully uninstalled tensorflow-2.10.0\n",
      "\u001b[31mERROR: pip's dependency resolver does not currently take into account all the packages that are installed. This behaviour is the source of the following dependency conflicts.\n",
      "tensorflow-text 2.10.0 requires tensorflow<2.11,>=2.10.0; platform_machine != \"arm64\" or platform_system != \"Darwin\", but you have tensorflow 2.11.1 which is incompatible.\u001b[0m\u001b[31m\n",
      "\u001b[0mSuccessfully installed keras-2.11.0 tensorboard-2.11.2 tensorflow-2.11.1 tensorflow-estimator-2.11.0\n"
     ]
    }
   ],
   "source": [
    "! pip install tensorflow==2.11.1"
   ]
  },
  {
   "cell_type": "code",
   "execution_count": null,
   "id": "815d646e-f1da-463e-9e90-76233a252690",
   "metadata": {},
   "outputs": [],
   "source": []
  }
 ],
 "metadata": {
  "kernelspec": {
   "display_name": "Python 3 (ipykernel)",
   "language": "python",
   "name": "python3"
  },
  "language_info": {
   "codemirror_mode": {
    "name": "ipython",
    "version": 3
   },
   "file_extension": ".py",
   "mimetype": "text/x-python",
   "name": "python",
   "nbconvert_exporter": "python",
   "pygments_lexer": "ipython3",
   "version": "3.10.0"
  }
 },
 "nbformat": 4,
 "nbformat_minor": 5
}
