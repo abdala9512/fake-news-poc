{
 "cells": [
  {
   "cell_type": "markdown",
   "id": "89829ebf-87f6-4890-b14f-da138d1c9bc1",
   "metadata": {},
   "source": [
    "# Baseline ML model"
   ]
  },
  {
   "cell_type": "code",
   "execution_count": 44,
   "id": "32db4d01-65de-445f-88e9-f111cec7d6ae",
   "metadata": {
    "tags": []
   },
   "outputs": [],
   "source": [
    "import mlflow\n",
    "import sys\n",
    "import numpy as np\n",
    "import pandas as pd\n",
    "from sklearn.naive_bayes import GaussianNB\n",
    "from sklearn.model_selection import train_test_split\n",
    "from sklearn.feature_extraction.text import CountVectorizer, TfidfTransformer\n",
    "\n",
    "from sklearn.metrics import classification_report, auc, accuracy_score, f1_score, recall_score, precision_score, roc_curve\n",
    "\n",
    "\n",
    "sys.path.append(\"../\")\n",
    "\n",
    "# repository code\n",
    "from libs import configs"
   ]
  },
  {
   "cell_type": "code",
   "execution_count": 4,
   "id": "d8a90c06-ed48-4812-9694-4e71c11a2704",
   "metadata": {
    "tags": []
   },
   "outputs": [],
   "source": [
    "data = pd.read_csv(configs.PREPROCESSED_DATA, sep=\"\\t\")"
   ]
  },
  {
   "cell_type": "code",
   "execution_count": 7,
   "id": "ccd0a569-d9d3-4c79-9f34-2b2b4f4f11e4",
   "metadata": {
    "tags": []
   },
   "outputs": [],
   "source": [
    "data[\"fake\"] = np.where(data[\"label\"] == \"F\", 1, 0)"
   ]
  },
  {
   "cell_type": "code",
   "execution_count": 8,
   "id": "dd5d394f-488a-4eea-8762-5ce56f633c38",
   "metadata": {
    "tags": []
   },
   "outputs": [
    {
     "data": {
      "text/html": [
       "<div>\n",
       "<style scoped>\n",
       "    .dataframe tbody tr th:only-of-type {\n",
       "        vertical-align: middle;\n",
       "    }\n",
       "\n",
       "    .dataframe tbody tr th {\n",
       "        vertical-align: top;\n",
       "    }\n",
       "\n",
       "    .dataframe thead th {\n",
       "        text-align: right;\n",
       "    }\n",
       "</style>\n",
       "<table border=\"1\" class=\"dataframe\">\n",
       "  <thead>\n",
       "    <tr style=\"text-align: right;\">\n",
       "      <th></th>\n",
       "      <th>index</th>\n",
       "      <th>label</th>\n",
       "      <th>title</th>\n",
       "      <th>filename</th>\n",
       "      <th>title_length</th>\n",
       "      <th>news</th>\n",
       "      <th>fake</th>\n",
       "    </tr>\n",
       "  </thead>\n",
       "  <tbody>\n",
       "    <tr>\n",
       "      <th>0</th>\n",
       "      <td>n0</td>\n",
       "      <td>F</td>\n",
       "      <td>Hacer gargaras con agua y sal elimina el coron...</td>\n",
       "      <td>../data/data_fake_news/fake/F - Hacer gargaras...</td>\n",
       "      <td>52</td>\n",
       "      <td>Beber mucha agua y hacer gárgaras con agua cal...</td>\n",
       "      <td>1</td>\n",
       "    </tr>\n",
       "    <tr>\n",
       "      <th>1</th>\n",
       "      <td>n1</td>\n",
       "      <td>F</td>\n",
       "      <td>Helicópteros no rociarán desinfectante contra ...</td>\n",
       "      <td>../data/data_fake_news/fake/F - Helicópteros n...</td>\n",
       "      <td>68</td>\n",
       "      <td>Helicópteros no rociarán desinfectante contra ...</td>\n",
       "      <td>1</td>\n",
       "    </tr>\n",
       "    <tr>\n",
       "      <th>2</th>\n",
       "      <td>n2</td>\n",
       "      <td>F</td>\n",
       "      <td>Nostradamus predijo el COVID19 y lo describió ...</td>\n",
       "      <td>../data/data_fake_news/fake/F - Nostradamus pr...</td>\n",
       "      <td>59</td>\n",
       "      <td>Nostradamus predijo el COVID19 y lo describió ...</td>\n",
       "      <td>1</td>\n",
       "    </tr>\n",
       "    <tr>\n",
       "      <th>3</th>\n",
       "      <td>n3</td>\n",
       "      <td>F</td>\n",
       "      <td>Nostradamus predijo el COVID19 y lo describió ...</td>\n",
       "      <td>../data/data_fake_news/fake/F - Nostradamus pr...</td>\n",
       "      <td>60</td>\n",
       "      <td>Nostradamus predijo el COVID19 y lo describió ...</td>\n",
       "      <td>1</td>\n",
       "    </tr>\n",
       "    <tr>\n",
       "      <th>4</th>\n",
       "      <td>n4</td>\n",
       "      <td>F</td>\n",
       "      <td>Sostener la respiración por 10 segundos no ayu...</td>\n",
       "      <td>../data/data_fake_news/fake/F - Sostener la re...</td>\n",
       "      <td>85</td>\n",
       "      <td>Sostener la respiración por 10 segundos no ayu...</td>\n",
       "      <td>1</td>\n",
       "    </tr>\n",
       "    <tr>\n",
       "      <th>...</th>\n",
       "      <td>...</td>\n",
       "      <td>...</td>\n",
       "      <td>...</td>\n",
       "      <td>...</td>\n",
       "      <td>...</td>\n",
       "      <td>...</td>\n",
       "      <td>...</td>\n",
       "    </tr>\n",
       "    <tr>\n",
       "      <th>528</th>\n",
       "      <td>n528</td>\n",
       "      <td>V</td>\n",
       "      <td>_Unidos para seguir cuidándote_, la nueva estr...</td>\n",
       "      <td>../data/data_fake_news/true/V-_Unidos para seg...</td>\n",
       "      <td>68</td>\n",
       "      <td>'Unidos para seguir cuidándote', la nueva estr...</td>\n",
       "      <td>0</td>\n",
       "    </tr>\n",
       "    <tr>\n",
       "      <th>529</th>\n",
       "      <td>n529</td>\n",
       "      <td>V</td>\n",
       "      <td>_Vacuna contra covid en EE. UU. no estará disp...</td>\n",
       "      <td>../data/data_fake_news/true/V-_Vacuna contra c...</td>\n",
       "      <td>68</td>\n",
       "      <td>'Vacuna contra covid en EE. UU. no estará disp...</td>\n",
       "      <td>0</td>\n",
       "    </tr>\n",
       "    <tr>\n",
       "      <th>530</th>\n",
       "      <td>n530</td>\n",
       "      <td>V</td>\n",
       "      <td>‘Datos del covid tienen rezagos, no falseamien...</td>\n",
       "      <td>../data/data_fake_news/true/V-‘Datos del covid...</td>\n",
       "      <td>69</td>\n",
       "      <td>‘Datos del covid tienen rezagos, no falseamien...</td>\n",
       "      <td>0</td>\n",
       "    </tr>\n",
       "    <tr>\n",
       "      <th>531</th>\n",
       "      <td>n531</td>\n",
       "      <td>V</td>\n",
       "      <td>‘Este virus muestra cuán vulnerables somos’_Pe...</td>\n",
       "      <td>../data/data_fake_news/true/V-‘Este virus mues...</td>\n",
       "      <td>60</td>\n",
       "      <td>‘Este virus muestra cuán vulnerables somos’: P...</td>\n",
       "      <td>0</td>\n",
       "    </tr>\n",
       "    <tr>\n",
       "      <th>532</th>\n",
       "      <td>n532</td>\n",
       "      <td>V</td>\n",
       "      <td>‘Regla de seis’_Por qué Francia cree que así c...</td>\n",
       "      <td>../data/data_fake_news/true/V-‘Regla de seis’_...</td>\n",
       "      <td>65</td>\n",
       "      <td>‘Regla de seis’: ¿Por qué Francia cree que así...</td>\n",
       "      <td>0</td>\n",
       "    </tr>\n",
       "  </tbody>\n",
       "</table>\n",
       "<p>533 rows × 7 columns</p>\n",
       "</div>"
      ],
      "text/plain": [
       "    index label                                              title  \\\n",
       "0      n0     F  Hacer gargaras con agua y sal elimina el coron...   \n",
       "1      n1     F  Helicópteros no rociarán desinfectante contra ...   \n",
       "2      n2     F  Nostradamus predijo el COVID19 y lo describió ...   \n",
       "3      n3     F  Nostradamus predijo el COVID19 y lo describió ...   \n",
       "4      n4     F  Sostener la respiración por 10 segundos no ayu...   \n",
       "..    ...   ...                                                ...   \n",
       "528  n528     V  _Unidos para seguir cuidándote_, la nueva estr...   \n",
       "529  n529     V  _Vacuna contra covid en EE. UU. no estará disp...   \n",
       "530  n530     V  ‘Datos del covid tienen rezagos, no falseamien...   \n",
       "531  n531     V  ‘Este virus muestra cuán vulnerables somos’_Pe...   \n",
       "532  n532     V  ‘Regla de seis’_Por qué Francia cree que así c...   \n",
       "\n",
       "                                              filename  title_length  \\\n",
       "0    ../data/data_fake_news/fake/F - Hacer gargaras...            52   \n",
       "1    ../data/data_fake_news/fake/F - Helicópteros n...            68   \n",
       "2    ../data/data_fake_news/fake/F - Nostradamus pr...            59   \n",
       "3    ../data/data_fake_news/fake/F - Nostradamus pr...            60   \n",
       "4    ../data/data_fake_news/fake/F - Sostener la re...            85   \n",
       "..                                                 ...           ...   \n",
       "528  ../data/data_fake_news/true/V-_Unidos para seg...            68   \n",
       "529  ../data/data_fake_news/true/V-_Vacuna contra c...            68   \n",
       "530  ../data/data_fake_news/true/V-‘Datos del covid...            69   \n",
       "531  ../data/data_fake_news/true/V-‘Este virus mues...            60   \n",
       "532  ../data/data_fake_news/true/V-‘Regla de seis’_...            65   \n",
       "\n",
       "                                                  news  fake  \n",
       "0    Beber mucha agua y hacer gárgaras con agua cal...     1  \n",
       "1    Helicópteros no rociarán desinfectante contra ...     1  \n",
       "2    Nostradamus predijo el COVID19 y lo describió ...     1  \n",
       "3    Nostradamus predijo el COVID19 y lo describió ...     1  \n",
       "4    Sostener la respiración por 10 segundos no ayu...     1  \n",
       "..                                                 ...   ...  \n",
       "528  'Unidos para seguir cuidándote', la nueva estr...     0  \n",
       "529  'Vacuna contra covid en EE. UU. no estará disp...     0  \n",
       "530  ‘Datos del covid tienen rezagos, no falseamien...     0  \n",
       "531  ‘Este virus muestra cuán vulnerables somos’: P...     0  \n",
       "532  ‘Regla de seis’: ¿Por qué Francia cree que así...     0  \n",
       "\n",
       "[533 rows x 7 columns]"
      ]
     },
     "execution_count": 8,
     "metadata": {},
     "output_type": "execute_result"
    }
   ],
   "source": [
    "data"
   ]
  },
  {
   "cell_type": "code",
   "execution_count": 41,
   "id": "fe0985a9-6c40-48ba-9750-51f68a82a0d1",
   "metadata": {
    "tags": []
   },
   "outputs": [
    {
     "name": "stderr",
     "output_type": "stream",
     "text": [
      "2023/04/02 16:59:45 WARNING mlflow.utils.autologging_utils: You are using an unsupported version of sklearn. If you encounter errors during autologging, try upgrading / downgrading sklearn to a supported version, or try upgrading MLflow.\n"
     ]
    }
   ],
   "source": [
    "from dotenv import load_dotenv\n",
    "\n",
    "load_dotenv()  # take environment variables from .env.\n",
    "mlflow.set_tracking_uri(configs.MLFLOW_TRACKING_URI)\n",
    "mlflow.sklearn.autolog()\n"
   ]
  },
  {
   "cell_type": "code",
   "execution_count": 46,
   "id": "b05fb545-380b-483b-8a4c-bb0cf870a9fb",
   "metadata": {
    "tags": []
   },
   "outputs": [],
   "source": [
    "def train_baseline(random_state=1121218):\n",
    "    \"\"\"\n",
    "    A function to train simple models on the metadata.\n",
    "    \"\"\"\n",
    "    X_train, X_test, y_train, y_test = train_test_split(data['news'], data['fake'], random_state = 0)\n",
    "\n",
    "    clf = GaussianNB()\n",
    "\n",
    "    with mlflow.start_run():\n",
    "        \n",
    "        # model training\n",
    "        count_vect = CountVectorizer()\n",
    "        X_train_counts = count_vect.fit_transform(X_train)\n",
    "        tfidf_transformer = TfidfTransformer()\n",
    "        X_train_tfidf = tfidf_transformer.fit_transform(X_train_counts)\n",
    "        clf.fit(X_train_tfidf.toarray(), y_train)\n",
    "        test_data_transformed = tfidf_transformer.transform(count_vect.transform(X_test)).toarray()\n",
    "        \n",
    "        test_predictions = clf.predict(test_data_transformed )\n",
    "        test_probabilities = clf.predict_proba(test_data_transformed)[:,1]\n",
    "        \n",
    "        fpr, tpr, thresholds = roc_curve(y_test, test_probabilities)\n",
    "        \n",
    "        accuracy_score_ = accuracy_score(y_test, test_predictions)\n",
    "        f1_score_ = f1_score(y_test, test_predictions)\n",
    "        recall_score_ = recall_score(y_test, test_predictions)\n",
    "        precision_score_ = precision_score(y_test, test_predictions)\n",
    "        AUC = auc(fpr, tpr)\n",
    "        \n",
    "    mlflow.end_run()"
   ]
  },
  {
   "cell_type": "code",
   "execution_count": 47,
   "id": "1f09e806-d8ec-4883-88a5-9521ab500d89",
   "metadata": {
    "tags": []
   },
   "outputs": [],
   "source": [
    "train_baseline()"
   ]
  },
  {
   "cell_type": "code",
   "execution_count": null,
   "id": "5b59a8ee-bb91-4a32-8d62-17fd289574c2",
   "metadata": {},
   "outputs": [],
   "source": []
  }
 ],
 "metadata": {
  "kernelspec": {
   "display_name": "Python 3 (ipykernel)",
   "language": "python",
   "name": "python3"
  },
  "language_info": {
   "codemirror_mode": {
    "name": "ipython",
    "version": 3
   },
   "file_extension": ".py",
   "mimetype": "text/x-python",
   "name": "python",
   "nbconvert_exporter": "python",
   "pygments_lexer": "ipython3",
   "version": "3.10.0"
  }
 },
 "nbformat": 4,
 "nbformat_minor": 5
}
