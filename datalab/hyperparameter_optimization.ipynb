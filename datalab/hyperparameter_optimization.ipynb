{
 "cells": [
  {
   "cell_type": "markdown",
   "id": "398920dc-e567-4a1e-bbd0-592c66cdaa2c",
   "metadata": {},
   "source": [
    "# Optimizacion de hiperparametros"
   ]
  },
  {
   "cell_type": "code",
   "execution_count": 71,
   "id": "e9b8df60-c635-4b27-a2b5-7c382c3807d1",
   "metadata": {
    "tags": []
   },
   "outputs": [],
   "source": [
    "\n",
    "import sys\n",
    "\n",
    "sys.path.append(\"../\")\n",
    "\n",
    "import pandas as pd\n",
    "import numpy as np\n",
    "from hyperopt import fmin, hp, tpe, space_eval, STATUS_OK, Trials\n",
    "from sklearn.metrics import roc_auc_score\n",
    "from typing import Dict, Callable\n",
    "from xgboost import XGBClassifier\n",
    "from sklearn.model_selection import train_test_split\n",
    "from libs import configs\n",
    "from sklearn.feature_extraction.text import CountVectorizer, TfidfTransformer\n"
   ]
  },
  {
   "cell_type": "code",
   "execution_count": 69,
   "id": "08689875-184b-4d52-a293-5a1d8a37eeef",
   "metadata": {
    "tags": []
   },
   "outputs": [
    {
     "data": {
      "text/html": [
       "<div>\n",
       "<style scoped>\n",
       "    .dataframe tbody tr th:only-of-type {\n",
       "        vertical-align: middle;\n",
       "    }\n",
       "\n",
       "    .dataframe tbody tr th {\n",
       "        vertical-align: top;\n",
       "    }\n",
       "\n",
       "    .dataframe thead th {\n",
       "        text-align: right;\n",
       "    }\n",
       "</style>\n",
       "<table border=\"1\" class=\"dataframe\">\n",
       "  <thead>\n",
       "    <tr style=\"text-align: right;\">\n",
       "      <th></th>\n",
       "      <th>index</th>\n",
       "      <th>label</th>\n",
       "      <th>title</th>\n",
       "      <th>filename</th>\n",
       "      <th>title_length</th>\n",
       "      <th>news</th>\n",
       "    </tr>\n",
       "  </thead>\n",
       "  <tbody>\n",
       "    <tr>\n",
       "      <th>0</th>\n",
       "      <td>n0</td>\n",
       "      <td>F</td>\n",
       "      <td>Hacer gargaras con agua y sal elimina el coron...</td>\n",
       "      <td>../data/data_fake_news/fake/F - Hacer gargaras...</td>\n",
       "      <td>52</td>\n",
       "      <td>Beber mucha agua y hacer gárgaras con agua cal...</td>\n",
       "    </tr>\n",
       "    <tr>\n",
       "      <th>1</th>\n",
       "      <td>n1</td>\n",
       "      <td>F</td>\n",
       "      <td>Helicópteros no rociarán desinfectante contra ...</td>\n",
       "      <td>../data/data_fake_news/fake/F - Helicópteros n...</td>\n",
       "      <td>68</td>\n",
       "      <td>Helicópteros no rociarán desinfectante contra ...</td>\n",
       "    </tr>\n",
       "    <tr>\n",
       "      <th>2</th>\n",
       "      <td>n2</td>\n",
       "      <td>F</td>\n",
       "      <td>Nostradamus predijo el COVID19 y lo describió ...</td>\n",
       "      <td>../data/data_fake_news/fake/F - Nostradamus pr...</td>\n",
       "      <td>59</td>\n",
       "      <td>Nostradamus predijo el COVID19 y lo describió ...</td>\n",
       "    </tr>\n",
       "    <tr>\n",
       "      <th>3</th>\n",
       "      <td>n3</td>\n",
       "      <td>F</td>\n",
       "      <td>Nostradamus predijo el COVID19 y lo describió ...</td>\n",
       "      <td>../data/data_fake_news/fake/F - Nostradamus pr...</td>\n",
       "      <td>60</td>\n",
       "      <td>Nostradamus predijo el COVID19 y lo describió ...</td>\n",
       "    </tr>\n",
       "    <tr>\n",
       "      <th>4</th>\n",
       "      <td>n4</td>\n",
       "      <td>F</td>\n",
       "      <td>Sostener la respiración por 10 segundos no ayu...</td>\n",
       "      <td>../data/data_fake_news/fake/F - Sostener la re...</td>\n",
       "      <td>85</td>\n",
       "      <td>Sostener la respiración por 10 segundos no ayu...</td>\n",
       "    </tr>\n",
       "    <tr>\n",
       "      <th>...</th>\n",
       "      <td>...</td>\n",
       "      <td>...</td>\n",
       "      <td>...</td>\n",
       "      <td>...</td>\n",
       "      <td>...</td>\n",
       "      <td>...</td>\n",
       "    </tr>\n",
       "    <tr>\n",
       "      <th>528</th>\n",
       "      <td>n528</td>\n",
       "      <td>V</td>\n",
       "      <td>_Unidos para seguir cuidándote_, la nueva estr...</td>\n",
       "      <td>../data/data_fake_news/true/V-_Unidos para seg...</td>\n",
       "      <td>68</td>\n",
       "      <td>'Unidos para seguir cuidándote', la nueva estr...</td>\n",
       "    </tr>\n",
       "    <tr>\n",
       "      <th>529</th>\n",
       "      <td>n529</td>\n",
       "      <td>V</td>\n",
       "      <td>_Vacuna contra covid en EE. UU. no estará disp...</td>\n",
       "      <td>../data/data_fake_news/true/V-_Vacuna contra c...</td>\n",
       "      <td>68</td>\n",
       "      <td>'Vacuna contra covid en EE. UU. no estará disp...</td>\n",
       "    </tr>\n",
       "    <tr>\n",
       "      <th>530</th>\n",
       "      <td>n530</td>\n",
       "      <td>V</td>\n",
       "      <td>‘Datos del covid tienen rezagos, no falseamien...</td>\n",
       "      <td>../data/data_fake_news/true/V-‘Datos del covid...</td>\n",
       "      <td>69</td>\n",
       "      <td>‘Datos del covid tienen rezagos, no falseamien...</td>\n",
       "    </tr>\n",
       "    <tr>\n",
       "      <th>531</th>\n",
       "      <td>n531</td>\n",
       "      <td>V</td>\n",
       "      <td>‘Este virus muestra cuán vulnerables somos’_Pe...</td>\n",
       "      <td>../data/data_fake_news/true/V-‘Este virus mues...</td>\n",
       "      <td>60</td>\n",
       "      <td>‘Este virus muestra cuán vulnerables somos’: P...</td>\n",
       "    </tr>\n",
       "    <tr>\n",
       "      <th>532</th>\n",
       "      <td>n532</td>\n",
       "      <td>V</td>\n",
       "      <td>‘Regla de seis’_Por qué Francia cree que así c...</td>\n",
       "      <td>../data/data_fake_news/true/V-‘Regla de seis’_...</td>\n",
       "      <td>65</td>\n",
       "      <td>‘Regla de seis’: ¿Por qué Francia cree que así...</td>\n",
       "    </tr>\n",
       "  </tbody>\n",
       "</table>\n",
       "<p>533 rows × 6 columns</p>\n",
       "</div>"
      ],
      "text/plain": [
       "    index  ...                                               news\n",
       "0      n0  ...  Beber mucha agua y hacer gárgaras con agua cal...\n",
       "1      n1  ...  Helicópteros no rociarán desinfectante contra ...\n",
       "2      n2  ...  Nostradamus predijo el COVID19 y lo describió ...\n",
       "3      n3  ...  Nostradamus predijo el COVID19 y lo describió ...\n",
       "4      n4  ...  Sostener la respiración por 10 segundos no ayu...\n",
       "..    ...  ...                                                ...\n",
       "528  n528  ...  'Unidos para seguir cuidándote', la nueva estr...\n",
       "529  n529  ...  'Vacuna contra covid en EE. UU. no estará disp...\n",
       "530  n530  ...  ‘Datos del covid tienen rezagos, no falseamien...\n",
       "531  n531  ...  ‘Este virus muestra cuán vulnerables somos’: P...\n",
       "532  n532  ...  ‘Regla de seis’: ¿Por qué Francia cree que así...\n",
       "\n",
       "[533 rows x 6 columns]"
      ]
     },
     "execution_count": 69,
     "metadata": {},
     "output_type": "execute_result"
    }
   ],
   "source": [
    "data"
   ]
  },
  {
   "cell_type": "code",
   "execution_count": 43,
   "id": "bd6a706d-f1ab-4776-9439-155d5fdbe391",
   "metadata": {
    "tags": []
   },
   "outputs": [],
   "source": [
    "\n",
    "def optimize_auc(search_space: Dict, evals: int) -> Callable:\n",
    "    \"\"\"decorador para Optimizar hiperametros de cualquier modelo de ML\n",
    "       \n",
    "    \"\"\"\n",
    "    def _objective_wrapper(objective: Callable) -> Callable:\n",
    "        def wrapper(*args, **kwargs) -> Callable:\n",
    "            trials = Trials()\n",
    "            return fmin(\n",
    "                fn = objective,\n",
    "                space = search_space,\n",
    "                algo = tpe.suggest,\n",
    "                max_evals = evals,\n",
    "                trials = trials\n",
    "            )\n",
    "        return wrapper\n",
    "    return _objective_wrapper"
   ]
  },
  {
   "cell_type": "code",
   "execution_count": 72,
   "id": "01650a3d-18e4-4b01-98fa-cc98f702bf00",
   "metadata": {
    "tags": []
   },
   "outputs": [],
   "source": [
    "data = pd.read_csv(configs.PREPROCESSED_DATA, sep=\"\\t\")\n",
    "data[\"fake\"] = np.where(data[\"label\"] == \"F\", 1, 0)\n",
    "X_train, X_test, y_train, y_test = train_test_split(data['news'], data['fake'], random_state = 0)\n",
    "\n",
    "count_vect = CountVectorizer()\n",
    "X_train_counts = count_vect.fit_transform(X_train)\n",
    "tfidf_transformer = TfidfTransformer()\n",
    "X_train_tfidf = tfidf_transformer.fit_transform(X_train_counts)\n",
    "test_data_transformed = tfidf_transformer.transform(count_vect.transform(X_test)).toarray()"
   ]
  },
  {
   "cell_type": "code",
   "execution_count": 86,
   "id": "f5178e91-e6b9-4ff8-a052-75aca5d8bfcc",
   "metadata": {
    "tags": []
   },
   "outputs": [],
   "source": [
    "SPACE = {\n",
    "    \"n_estimators\": hp.quniform(\"n_estimators\", 50, 100, 10)\n",
    "}\n",
    "\n",
    "def optimize_models(space: Dict) -> Dict:\n",
    "\n",
    "    @optimize_auc(search_space=space, evals=10)\n",
    "    def train_predict_xgboost(search_space: Dict) -> Dict:\n",
    "\n",
    "        model = XGBClassifier(n_estimators=int(search_space[\"n_estimators\"]))\n",
    "        model.fit(X_train_tfidf, y_train)\n",
    "        y_score = model.predict_proba(test_data_transformed)[:,1]\n",
    "        ROC_SCORE = roc_auc_score(y_test, y_score)\n",
    "        print(f\"ROC-AUC Score: {ROC_SCORE}\")\n",
    "        return {\n",
    "            \"loss\": -ROC_SCORE, \n",
    "            \"status\": STATUS_OK\n",
    "        }\n",
    "    \n",
    "    return train_predict_xgboost(SPACE)\n",
    "    "
   ]
  },
  {
   "cell_type": "code",
   "execution_count": 87,
   "id": "281eec5c-725c-46ea-a8a4-9b4c435c0534",
   "metadata": {
    "tags": []
   },
   "outputs": [
    {
     "name": "stdout",
     "output_type": "stream",
     "text": [
      "ROC-AUC Score: 0.8587053571428571                                                                                                                                                                                  \n",
      "ROC-AUC Score: 0.8587053571428571                                                                                                                                                                                  \n",
      "ROC-AUC Score: 0.8752232142857144                                                                                                                                                                                  \n",
      "ROC-AUC Score: 0.8752232142857144                                                                                                                                                                                  \n",
      "ROC-AUC Score: 0.8587053571428571                                                                                                                                                                                  \n",
      "ROC-AUC Score: 0.8752232142857144                                                                                                                                                                                  \n",
      "ROC-AUC Score: 0.86875                                                                                                                                                                                             \n",
      "ROC-AUC Score: 0.8587053571428571                                                                                                                                                                                  \n",
      "ROC-AUC Score: 0.8633928571428572                                                                                                                                                                                  \n",
      "ROC-AUC Score: 0.8633928571428572                                                                                                                                                                                  \n",
      "100%|███████████████████████████████████████████████████████████████████████████████████████████████████████████████████████████████████████████| 10/10 [00:05<00:00,  1.96trial/s, best loss: -0.8752232142857144]\n"
     ]
    },
    {
     "data": {
      "text/plain": [
       "{'n_estimators': 60.0}"
      ]
     },
     "execution_count": 87,
     "metadata": {},
     "output_type": "execute_result"
    }
   ],
   "source": [
    "optimize_model(space=SPACE)"
   ]
  },
  {
   "cell_type": "code",
   "execution_count": 59,
   "id": "2acaab50-63c4-4b5b-83ea-7ebb776b71bd",
   "metadata": {
    "tags": []
   },
   "outputs": [
    {
     "data": {
      "text/plain": [
       "<hyperopt.pyll.base.Apply at 0x7fea24bd16f0>"
      ]
     },
     "execution_count": 59,
     "metadata": {},
     "output_type": "execute_result"
    }
   ],
   "source": [
    "hp.quniform(\"test\", 1, 10,2)"
   ]
  },
  {
   "cell_type": "code",
   "execution_count": 84,
   "id": "3036891f-2195-4de6-b943-fd8c21dcd5b9",
   "metadata": {
    "tags": []
   },
   "outputs": [
    {
     "data": {
      "text/plain": [
       "{'n_estimators': 60.0}"
      ]
     },
     "execution_count": 84,
     "metadata": {},
     "output_type": "execute_result"
    }
   ],
   "source": [
    "best_"
   ]
  },
  {
   "cell_type": "code",
   "execution_count": null,
   "id": "b094db87-363c-4f70-91a7-9fd9d122d04e",
   "metadata": {},
   "outputs": [],
   "source": []
  }
 ],
 "metadata": {
  "kernelspec": {
   "display_name": "Python 3 (ipykernel)",
   "language": "python",
   "name": "python3"
  },
  "language_info": {
   "codemirror_mode": {
    "name": "ipython",
    "version": 3
   },
   "file_extension": ".py",
   "mimetype": "text/x-python",
   "name": "python",
   "nbconvert_exporter": "python",
   "pygments_lexer": "ipython3",
   "version": "3.10.0"
  }
 },
 "nbformat": 4,
 "nbformat_minor": 5
}
