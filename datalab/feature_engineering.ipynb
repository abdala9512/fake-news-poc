{
 "cells": [
  {
   "cell_type": "markdown",
   "id": "49c17a2c-431e-48d9-a718-177c33d18c1d",
   "metadata": {},
   "source": [
    "# Feature Engineering"
   ]
  },
  {
   "cell_type": "code",
   "execution_count": 3,
   "id": "7506adca-199c-421c-a277-e7fb093b8d03",
   "metadata": {
    "tags": []
   },
   "outputs": [],
   "source": [
    "import sys\n",
    "\n",
    "sys.path.append(\"../\")\n",
    "\n",
    "import pandas as pd\n",
    "from libs import configs\n",
    "from libs.embeddings import visualize_embedding"
   ]
  },
  {
   "cell_type": "code",
   "execution_count": 2,
   "id": "88d9ff6d-e546-4375-bc18-adcb1c4706c0",
   "metadata": {
    "tags": []
   },
   "outputs": [],
   "source": [
    "MLFLOW_TRACKING_USERNAME=\"abdala9512\"\n",
    "MLFLOW_TRACKING_PASSWORD=\"1d1ebc14c40b501a86efa38a0d296943eae81cdf\""
   ]
  },
  {
   "cell_type": "code",
   "execution_count": 4,
   "id": "93ed760a-3b00-443d-908f-db7c865afa0a",
   "metadata": {
    "tags": []
   },
   "outputs": [
    {
     "data": {
      "text/plain": [
       "'https://dagshub.com/abdala9512/fake-news-poc.mlflow'"
      ]
     },
     "execution_count": 4,
     "metadata": {},
     "output_type": "execute_result"
    }
   ],
   "source": []
  },
  {
   "cell_type": "code",
   "execution_count": 6,
   "id": "51d40448-d875-40a0-9834-1293775df37c",
   "metadata": {
    "tags": []
   },
   "outputs": [
    {
     "data": {
      "text/html": [
       "<div>\n",
       "<style scoped>\n",
       "    .dataframe tbody tr th:only-of-type {\n",
       "        vertical-align: middle;\n",
       "    }\n",
       "\n",
       "    .dataframe tbody tr th {\n",
       "        vertical-align: top;\n",
       "    }\n",
       "\n",
       "    .dataframe thead th {\n",
       "        text-align: right;\n",
       "    }\n",
       "</style>\n",
       "<table border=\"1\" class=\"dataframe\">\n",
       "  <thead>\n",
       "    <tr style=\"text-align: right;\">\n",
       "      <th></th>\n",
       "      <th>index</th>\n",
       "      <th>label</th>\n",
       "      <th>title</th>\n",
       "      <th>filename</th>\n",
       "      <th>title_length</th>\n",
       "      <th>news</th>\n",
       "    </tr>\n",
       "  </thead>\n",
       "  <tbody>\n",
       "    <tr>\n",
       "      <th>0</th>\n",
       "      <td>n0</td>\n",
       "      <td>F</td>\n",
       "      <td>Hacer gargaras con agua y sal elimina el coron...</td>\n",
       "      <td>../data/data_fake_news/fake/F - Hacer gargaras...</td>\n",
       "      <td>52</td>\n",
       "      <td>Beber mucha agua y hacer gárgaras con agua cal...</td>\n",
       "    </tr>\n",
       "    <tr>\n",
       "      <th>1</th>\n",
       "      <td>n1</td>\n",
       "      <td>F</td>\n",
       "      <td>Helicópteros no rociarán desinfectante contra ...</td>\n",
       "      <td>../data/data_fake_news/fake/F - Helicópteros n...</td>\n",
       "      <td>68</td>\n",
       "      <td>Helicópteros no rociarán desinfectante contra ...</td>\n",
       "    </tr>\n",
       "    <tr>\n",
       "      <th>2</th>\n",
       "      <td>n2</td>\n",
       "      <td>F</td>\n",
       "      <td>Nostradamus predijo el COVID19 y lo describió ...</td>\n",
       "      <td>../data/data_fake_news/fake/F - Nostradamus pr...</td>\n",
       "      <td>59</td>\n",
       "      <td>Nostradamus predijo el COVID19 y lo describió ...</td>\n",
       "    </tr>\n",
       "    <tr>\n",
       "      <th>3</th>\n",
       "      <td>n3</td>\n",
       "      <td>F</td>\n",
       "      <td>Nostradamus predijo el COVID19 y lo describió ...</td>\n",
       "      <td>../data/data_fake_news/fake/F - Nostradamus pr...</td>\n",
       "      <td>60</td>\n",
       "      <td>Nostradamus predijo el COVID19 y lo describió ...</td>\n",
       "    </tr>\n",
       "    <tr>\n",
       "      <th>4</th>\n",
       "      <td>n4</td>\n",
       "      <td>F</td>\n",
       "      <td>Sostener la respiración por 10 segundos no ayu...</td>\n",
       "      <td>../data/data_fake_news/fake/F - Sostener la re...</td>\n",
       "      <td>85</td>\n",
       "      <td>Sostener la respiración por 10 segundos no ayu...</td>\n",
       "    </tr>\n",
       "    <tr>\n",
       "      <th>...</th>\n",
       "      <td>...</td>\n",
       "      <td>...</td>\n",
       "      <td>...</td>\n",
       "      <td>...</td>\n",
       "      <td>...</td>\n",
       "      <td>...</td>\n",
       "    </tr>\n",
       "    <tr>\n",
       "      <th>528</th>\n",
       "      <td>n528</td>\n",
       "      <td>V</td>\n",
       "      <td>_Unidos para seguir cuidándote_, la nueva estr...</td>\n",
       "      <td>../data/data_fake_news/true/V-_Unidos para seg...</td>\n",
       "      <td>68</td>\n",
       "      <td>'Unidos para seguir cuidándote', la nueva estr...</td>\n",
       "    </tr>\n",
       "    <tr>\n",
       "      <th>529</th>\n",
       "      <td>n529</td>\n",
       "      <td>V</td>\n",
       "      <td>_Vacuna contra covid en EE. UU. no estará disp...</td>\n",
       "      <td>../data/data_fake_news/true/V-_Vacuna contra c...</td>\n",
       "      <td>68</td>\n",
       "      <td>'Vacuna contra covid en EE. UU. no estará disp...</td>\n",
       "    </tr>\n",
       "    <tr>\n",
       "      <th>530</th>\n",
       "      <td>n530</td>\n",
       "      <td>V</td>\n",
       "      <td>‘Datos del covid tienen rezagos, no falseamien...</td>\n",
       "      <td>../data/data_fake_news/true/V-‘Datos del covid...</td>\n",
       "      <td>69</td>\n",
       "      <td>‘Datos del covid tienen rezagos, no falseamien...</td>\n",
       "    </tr>\n",
       "    <tr>\n",
       "      <th>531</th>\n",
       "      <td>n531</td>\n",
       "      <td>V</td>\n",
       "      <td>‘Este virus muestra cuán vulnerables somos’_Pe...</td>\n",
       "      <td>../data/data_fake_news/true/V-‘Este virus mues...</td>\n",
       "      <td>60</td>\n",
       "      <td>‘Este virus muestra cuán vulnerables somos’: P...</td>\n",
       "    </tr>\n",
       "    <tr>\n",
       "      <th>532</th>\n",
       "      <td>n532</td>\n",
       "      <td>V</td>\n",
       "      <td>‘Regla de seis’_Por qué Francia cree que así c...</td>\n",
       "      <td>../data/data_fake_news/true/V-‘Regla de seis’_...</td>\n",
       "      <td>65</td>\n",
       "      <td>‘Regla de seis’: ¿Por qué Francia cree que así...</td>\n",
       "    </tr>\n",
       "  </tbody>\n",
       "</table>\n",
       "<p>533 rows × 6 columns</p>\n",
       "</div>"
      ],
      "text/plain": [
       "    index label                                              title  \\\n",
       "0      n0     F  Hacer gargaras con agua y sal elimina el coron...   \n",
       "1      n1     F  Helicópteros no rociarán desinfectante contra ...   \n",
       "2      n2     F  Nostradamus predijo el COVID19 y lo describió ...   \n",
       "3      n3     F  Nostradamus predijo el COVID19 y lo describió ...   \n",
       "4      n4     F  Sostener la respiración por 10 segundos no ayu...   \n",
       "..    ...   ...                                                ...   \n",
       "528  n528     V  _Unidos para seguir cuidándote_, la nueva estr...   \n",
       "529  n529     V  _Vacuna contra covid en EE. UU. no estará disp...   \n",
       "530  n530     V  ‘Datos del covid tienen rezagos, no falseamien...   \n",
       "531  n531     V  ‘Este virus muestra cuán vulnerables somos’_Pe...   \n",
       "532  n532     V  ‘Regla de seis’_Por qué Francia cree que así c...   \n",
       "\n",
       "                                              filename  title_length  \\\n",
       "0    ../data/data_fake_news/fake/F - Hacer gargaras...            52   \n",
       "1    ../data/data_fake_news/fake/F - Helicópteros n...            68   \n",
       "2    ../data/data_fake_news/fake/F - Nostradamus pr...            59   \n",
       "3    ../data/data_fake_news/fake/F - Nostradamus pr...            60   \n",
       "4    ../data/data_fake_news/fake/F - Sostener la re...            85   \n",
       "..                                                 ...           ...   \n",
       "528  ../data/data_fake_news/true/V-_Unidos para seg...            68   \n",
       "529  ../data/data_fake_news/true/V-_Vacuna contra c...            68   \n",
       "530  ../data/data_fake_news/true/V-‘Datos del covid...            69   \n",
       "531  ../data/data_fake_news/true/V-‘Este virus mues...            60   \n",
       "532  ../data/data_fake_news/true/V-‘Regla de seis’_...            65   \n",
       "\n",
       "                                                  news  \n",
       "0    Beber mucha agua y hacer gárgaras con agua cal...  \n",
       "1    Helicópteros no rociarán desinfectante contra ...  \n",
       "2    Nostradamus predijo el COVID19 y lo describió ...  \n",
       "3    Nostradamus predijo el COVID19 y lo describió ...  \n",
       "4    Sostener la respiración por 10 segundos no ayu...  \n",
       "..                                                 ...  \n",
       "528  'Unidos para seguir cuidándote', la nueva estr...  \n",
       "529  'Vacuna contra covid en EE. UU. no estará disp...  \n",
       "530  ‘Datos del covid tienen rezagos, no falseamien...  \n",
       "531  ‘Este virus muestra cuán vulnerables somos’: P...  \n",
       "532  ‘Regla de seis’: ¿Por qué Francia cree que así...  \n",
       "\n",
       "[533 rows x 6 columns]"
      ]
     },
     "execution_count": 6,
     "metadata": {},
     "output_type": "execute_result"
    }
   ],
   "source": [
    "pd.read_csv(configs.PREPROCESSED_DATA, sep=\"\\t\")"
   ]
  },
  {
   "cell_type": "code",
   "execution_count": null,
   "id": "2d49f883-9e92-446e-a921-859f3d245dba",
   "metadata": {},
   "outputs": [],
   "source": []
  }
 ],
 "metadata": {
  "kernelspec": {
   "display_name": "Python 3 (ipykernel)",
   "language": "python",
   "name": "python3"
  },
  "language_info": {
   "codemirror_mode": {
    "name": "ipython",
    "version": 3
   },
   "file_extension": ".py",
   "mimetype": "text/x-python",
   "name": "python",
   "nbconvert_exporter": "python",
   "pygments_lexer": "ipython3",
   "version": "3.10.0"
  }
 },
 "nbformat": 4,
 "nbformat_minor": 5
}
