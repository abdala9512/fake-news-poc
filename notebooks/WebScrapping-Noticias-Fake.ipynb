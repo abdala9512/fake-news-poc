{
 "cells": [
  {
   "cell_type": "code",
   "execution_count": null,
   "id": "07576fd8",
   "metadata": {},
   "outputs": [],
   "source": [
    "# Importar libreria\n",
    "import gc\n",
    "import requests\n",
    "import pandas as pd\n",
    "from bs4 import BeautifulSoup\n",
    "import numpy as np"
   ]
  },
  {
   "cell_type": "code",
   "execution_count": null,
   "id": "9f2ba3d4",
   "metadata": {},
   "outputs": [],
   "source": [
    "#Cargar Noticas Verdaderas\n",
    "#dfv = pd.read_excel('C:/Users/leona/Documents/fake-news-poc/data/dataset_final_noticias_veridicas.xlsx', sheet_name=\"Hoja1\")\n",
    "#len(dfv)"
   ]
  },
  {
   "cell_type": "code",
   "execution_count": null,
   "id": "dbb7745d",
   "metadata": {},
   "outputs": [],
   "source": [
    "# Cargar Noticias Falsas\n",
    "dff = pd.read_excel('C:/Users/leona/Documents/fake-news-poc/data/dataset_noticias_falsas.xlsx', sheet_name=\"Hoja1\")\n",
    "len(dff)"
   ]
  },
  {
   "cell_type": "code",
   "execution_count": null,
   "id": "025f74ef",
   "metadata": {},
   "outputs": [],
   "source": [
    "# Identificacion de Columnas Noticas Verdaderas\n",
    "#dfv.columns"
   ]
  },
  {
   "cell_type": "code",
   "execution_count": null,
   "id": "3e8789a2",
   "metadata": {},
   "outputs": [],
   "source": [
    "# Identificacion de Columnas Noticas Falsas\n",
    "dff.columns"
   ]
  },
  {
   "cell_type": "code",
   "execution_count": null,
   "id": "862f120c",
   "metadata": {},
   "outputs": [],
   "source": [
    "# Extraccion de URLS por lotes\n",
    "\n",
    "# Notcias verdaderas\n",
    "urls1 = dfv.iloc[0:100,9]\n",
    "urls2 = dfv.iloc[100:200,9]\n",
    "urls3 = dfv.iloc[200:300,9]\n",
    "urls4 = dfv.iloc[300:400,9]\n",
    "urls5 = dfv.iloc[400:500,9]\n",
    "urls6 = dfv.iloc[500:599,9]\n",
    "\n",
    "# Notcias falsas\n",
    "urls7 = dff.iloc[0:100,9]\n",
    "urls8 = dff.iloc[100:200,9]\n",
    "urls9 = dff.iloc[200:301,9]\n",
    "\n"
   ]
  },
  {
   "cell_type": "code",
   "execution_count": null,
   "id": "5dfea305",
   "metadata": {},
   "outputs": [],
   "source": [
    "dfv = None\n",
    "dff = None\n",
    "gc.collect()"
   ]
  },
  {
   "cell_type": "code",
   "execution_count": null,
   "id": "48dac0b7",
   "metadata": {},
   "outputs": [],
   "source": [
    "# Lista para almacenar los resultados\n",
    "results_list = []\n",
    "\n",
    "# Recorremos las URLs\n",
    "for url in urls9:\n",
    "    try:\n",
    "        # Hacemos la solicitud y parseamos el contenido\n",
    "        page = requests.get(url)\n",
    "        s = BeautifulSoup(page.text, \"lxml\")\n",
    "\n",
    "        # Obtenemos el título de la página\n",
    "        title = s.find('h1').text\n",
    "\n",
    "        # Obtenemos el número de enlaces e imágenes\n",
    "        links = len([link.get('href') for link in s.find_all('a', href=True)])\n",
    "        images = len([img.get('src') for img in s.find_all('img')])\n",
    "\n",
    "        # Obtenemos el código de respuesta\n",
    "        response_code = 1 if page.status_code == 200 else 0\n",
    "\n",
    "        # Agregamos los resultados a la lista\n",
    "        if title:\n",
    "            results_list.append((title, response_code, links, images))\n",
    "\n",
    "    except Exception as e:\n",
    "        pass\n",
    "\n",
    "# Creamos un DataFrame con los resultados\n",
    "df = pd.DataFrame(results_list, columns=['Titulo', 'Codigo_respuesta', 'Links', 'Imagenes'])"
   ]
  },
  {
   "cell_type": "code",
   "execution_count": null,
   "id": "9285e9f5",
   "metadata": {},
   "outputs": [],
   "source": [
    "df.to_csv('wscrpdf9.csv', index=False)"
   ]
  },
  {
   "cell_type": "code",
   "execution_count": null,
   "id": "2d67b19b",
   "metadata": {},
   "outputs": [],
   "source": [
    "ws1 = pd.read_csv('C:/Users/leona/Documents/fake-news-poc/notebooks/wscrpdf1.csv')\n",
    "ws2 = pd.read_csv('C:/Users/leona/Documents/fake-news-poc/notebooks/wscrpdf2.csv')\n",
    "ws3 = pd.read_csv('C:/Users/leona/Documents/fake-news-poc/notebooks/wscrpdf3.csv')\n",
    "ws4 = pd.read_csv('C:/Users/leona/Documents/fake-news-poc/notebooks/wscrpdf4.csv')\n",
    "ws5 = pd.read_csv('C:/Users/leona/Documents/fake-news-poc/notebooks/wscrpdf5.csv')\n",
    "ws6 = pd.read_csv('C:/Users/leona/Documents/fake-news-poc/notebooks/wscrpdf6.csv')\n",
    "ws7 = pd.read_csv('C:/Users/leona/Documents/fake-news-poc/notebooks/wscrpdf7.csv')\n",
    "ws8 = pd.read_csv('C:/Users/leona/Documents/fake-news-poc/notebooks/wscrpdf8.csv')\n",
    "ws9 = pd.read_csv('C:/Users/leona/Documents/fake-news-poc/notebooks/wscrpdf9.csv')"
   ]
  },
  {
   "cell_type": "code",
   "execution_count": null,
   "id": "04023aa5",
   "metadata": {},
   "outputs": [],
   "source": [
    "wscrpdf = pd.concat([ws1,ws2,ws3,ws4,ws5,ws6,ws7,ws8,ws9])"
   ]
  },
  {
   "cell_type": "code",
   "execution_count": null,
   "id": "8392347d",
   "metadata": {},
   "outputs": [],
   "source": [
    "wscrpdf"
   ]
  },
  {
   "cell_type": "code",
   "execution_count": null,
   "id": "b309f2a5",
   "metadata": {},
   "outputs": [],
   "source": [
    "wscrpdf.to_csv('wscrpdf.csv', index=False)"
   ]
  },
  {
   "cell_type": "code",
   "execution_count": null,
   "id": "ae79628f",
   "metadata": {},
   "outputs": [],
   "source": []
  }
 ],
 "metadata": {
  "kernelspec": {
   "display_name": "Python 3 (ipykernel)",
   "language": "python",
   "name": "python3"
  },
  "language_info": {
   "codemirror_mode": {
    "name": "ipython",
    "version": 3
   },
   "file_extension": ".py",
   "mimetype": "text/x-python",
   "name": "python",
   "nbconvert_exporter": "python",
   "pygments_lexer": "ipython3",
   "version": "3.9.12"
  },
  "vscode": {
   "interpreter": {
    "hash": "a063a9d6d4095dba70f7d4a438ef288e94ffec589b0525f5b20de998ec61033a"
   }
  }
 },
 "nbformat": 4,
 "nbformat_minor": 5
}
